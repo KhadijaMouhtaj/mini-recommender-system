{
 "cells": [
  {
   "cell_type": "code",
   "execution_count": 9,
   "id": "caec2971-a06e-4180-a5c4-6ca923f0e2df",
   "metadata": {},
   "outputs": [
    {
     "name": "stdout",
     "output_type": "stream",
     "text": [
      "Dimensions : (100000, 5)\n",
      "   user_id  movie_id  rating  timestamp                       title\n",
      "0      196       242       3  881250949                Kolya (1996)\n",
      "1      186       302       3  891717742    L.A. Confidential (1997)\n",
      "2       22       377       1  878887116         Heavyweights (1994)\n",
      "3      244        51       2  880606923  Legends of the Fall (1994)\n",
      "4      166       346       1  886397596         Jackie Brown (1997)\n"
     ]
    }
   ],
   "source": [
    "import pandas as pd\n",
    "import matplotlib.pyplot as plt\n",
    "import seaborn as sns\n",
    "\n",
    "\n",
    "# Charger les notes\n",
    "ratings = pd.read_csv(r\"C:\\Users\\khadi\\OneDrive\\Bureau\\desktop\\mini\\ml-100k\\u.data\", sep=\"\\t\", names=[\"user_id\", \"movie_id\", \"rating\", \"timestamp\"])\n",
    "\n",
    "# Charger les films\n",
    "movies = pd.read_csv(r\"C:\\Users\\khadi\\OneDrive\\Bureau\\desktop\\mini\\ml-100k\\u.item\", sep=\"|\", encoding=\"latin-1\", \n",
    "                     names=[\"movie_id\", \"title\", \"release_date\", \"video_release_date\", \"IMDb_URL\",\n",
    "                            \"unknown\", \"Action\", \"Adventure\", \"Animation\", \"Children's\", \"Comedy\", \"Crime\",\n",
    "                            \"Documentary\", \"Drama\", \"Fantasy\", \"Film-Noir\", \"Horror\", \"Musical\", \"Mystery\",\n",
    "                            \"Romance\", \"Sci-Fi\", \"Thriller\", \"War\", \"Western\"])\n",
    "\n",
    "# Fusion des deux\n",
    "data = pd.merge(ratings, movies[[\"movie_id\", \"title\"]], on=\"movie_id\")\n",
    "\n",
    "print(\"Dimensions :\", data.shape)\n",
    "print(data.head())\n"
   ]
  },
  {
   "cell_type": "code",
   "execution_count": 10,
   "id": "de4acbe9-f7d1-43e8-832e-787f8ce8f2df",
   "metadata": {},
   "outputs": [
    {
     "data": {
      "image/png": "[encoded data removed]",
      "text/plain": [
       "<Figure size 600x400 with 1 Axes>"
      ]
     },
     "metadata": {},
     "output_type": "display_data"
    },
    {
     "name": "stdout",
     "output_type": "stream",
     "text": [
      "Films les plus notés :\n",
      " title\n",
      "Star Wars (1977)                 583\n",
      "Contact (1997)                   509\n",
      "Fargo (1996)                     508\n",
      "Return of the Jedi (1983)        507\n",
      "Liar Liar (1997)                 485\n",
      "English Patient, The (1996)      481\n",
      "Scream (1996)                    478\n",
      "Toy Story (1995)                 452\n",
      "Air Force One (1997)             431\n",
      "Independence Day (ID4) (1996)    429\n",
      "Name: rating, dtype: int64\n",
      "Films avec la meilleure moyenne :\n",
      " title\n",
      "They Made Me a Criminal (1939)                       5.0\n",
      "Marlene Dietrich: Shadow and Light (1996)            5.0\n",
      "Saint of Fort Washington, The (1993)                 5.0\n",
      "Someone Else's America (1995)                        5.0\n",
      "Star Kid (1997)                                      5.0\n",
      "Great Day in Harlem, A (1994)                        5.0\n",
      "Aiqing wansui (1994)                                 5.0\n",
      "Santa with Muscles (1996)                            5.0\n",
      "Prefontaine (1997)                                   5.0\n",
      "Entertaining Angels: The Dorothy Day Story (1996)    5.0\n",
      "Name: rating, dtype: float64\n"
     ]
    }
   ],
   "source": [
    "\n",
    "\n",
    "# Distribution des notes\n",
    "plt.figure(figsize=(6,4))\n",
    "sns.countplot(data=data, x=\"rating\")\n",
    "plt.title(\"Distribution des notes\")\n",
    "plt.show()\n",
    "\n",
    "# Films les plus notés\n",
    "top_movies = data.groupby(\"title\")[\"rating\"].count().sort_values(ascending=False).head(10)\n",
    "print(\"Films les plus notés :\\n\", top_movies)\n",
    "\n",
    "# Moyenne des notes par film\n",
    "mean_ratings = data.groupby(\"title\")[\"rating\"].mean().sort_values(ascending=False).head(10)\n",
    "print(\"Films avec la meilleure moyenne :\\n\", mean_ratings)\n"
   ]
  },
  {
   "cell_type": "markdown",
   "id": "446eac00-dd84-4b8f-9a51-1b25f7ed4c7b",
   "metadata": {},
   "source": [
    "### 1. Vérifier les valeurs manquantes\n",
    "\n"
   ]
  },
  {
   "cell_type": "code",
   "execution_count": 15,
   "id": "330bf9de-54f3-458a-8ac8-58b8639bec9b",
   "metadata": {},
   "outputs": [
    {
     "name": "stdout",
     "output_type": "stream",
     "text": [
      "user_id      0\n",
      "movie_id     0\n",
      "rating       0\n",
      "timestamp    0\n",
      "title        0\n",
      "dtype: int64\n"
     ]
    }
   ],
   "source": [
    "print(data.isnull().sum())\n"
   ]
  },
  {
   "cell_type": "markdown",
   "id": "c375e6d8-f340-4a26-ac01-03cd9b369602",
   "metadata": {},
   "source": [
    "### 2. Supprimer les colonnes inutiles"
   ]
  },
  {
   "cell_type": "code",
   "execution_count": 18,
   "id": "627dfd8f-6053-4158-9d4f-6145fdec7dd7",
   "metadata": {},
   "outputs": [],
   "source": [
    "genres_cols = ['unknown', 'Action', 'Adventure', 'Animation', \"Children's\", 'Comedy', 'Crime',\n",
    "               'Documentary', 'Drama', 'Fantasy', 'Film-Noir', 'Horror', 'Musical', 'Mystery',\n",
    "               'Romance', 'Sci-Fi', 'Thriller', 'War', 'Western']\n",
    "\n",
    "movies_clean = movies[['movie_id', 'title'] + genres_cols]\n"
   ]
  },
  {
   "cell_type": "markdown",
   "id": "bd1af8b0-4711-4038-930e-66d3946f917c",
   "metadata": {},
   "source": [
    "### 3. Conversion des genres en vecteurs"
   ]
  },
  {
   "cell_type": "code",
   "execution_count": 21,
   "id": "8e57e070-7619-4106-bf3d-bedf7de23aa3",
   "metadata": {},
   "outputs": [],
   "source": [
    "from sklearn.metrics.pairwise import cosine_similarity\n",
    "\n",
    "# Matrice des genres\n",
    "genre_matrix = movies_clean[genres_cols].values\n",
    "\n",
    "# Similarité cosinus entre films\n",
    "similarity_matrix = cosine_similarity(genre_matrix)\n"
   ]
  },
  {
   "cell_type": "markdown",
   "id": "1ee4d8f2-8883-4622-9cd3-39e7ecb0d03a",
   "metadata": {},
   "source": [
    "### 4. Création d’un dictionnaire pour accéder aux films facilement\n"
   ]
  },
  {
   "cell_type": "code",
   "execution_count": 24,
   "id": "62641677-a9de-4bb7-8a59-f6f0ea46808d",
   "metadata": {},
   "outputs": [],
   "source": [
    "# Index des films par titre\n",
    "indices = pd.Series(movies_clean.index, index=movies_clean['title']).drop_duplicates()\n"
   ]
  },
  {
   "cell_type": "markdown",
   "id": "a5d43076-2a1a-407f-90b4-7b0f38b08d82",
   "metadata": {},
   "source": [
    "### 5. Fonction de recommandation"
   ]
  },
  {
   "cell_type": "code",
   "execution_count": 26,
   "id": "45cd629a-7ee4-469c-a212-300572a16f92",
   "metadata": {},
   "outputs": [],
   "source": [
    "def recommend_similar(movie_title, top_n=5):\n",
    "    try:\n",
    "        # Trouver l'index du film\n",
    "        idx = indices[movie_title]\n",
    "\n",
    "        # Récupérer les similarités pour ce film\n",
    "        sim_scores = list(enumerate(similarity_matrix[idx]))\n",
    "\n",
    "        # Trier par similarité décroissante (sauf le film lui-même)\n",
    "        sim_scores = sorted(sim_scores, key=lambda x: x[1], reverse=True)\n",
    "        sim_scores = sim_scores[1:top_n+1]\n",
    "\n",
    "        # Récupérer les indices des films recommandés\n",
    "        movie_indices = [i[0] for i in sim_scores]\n",
    "\n",
    "        # Retourner les titres\n",
    "        return movies_clean['title'].iloc[movie_indices].tolist()\n",
    "    \n",
    "    except KeyError:\n",
    "        return \"Film non trouvé dans le dataset.\"\n"
   ]
  },
  {
   "cell_type": "markdown",
   "id": "144c05a3-ef73-445d-aeb7-66bf56a32fe8",
   "metadata": {},
   "source": [
    "#### Test Rapide\n"
   ]
  },
  {
   "cell_type": "code",
   "execution_count": 32,
   "id": "5de20c34-31f7-46d2-8672-9e6a40ff10db",
   "metadata": {},
   "outputs": [
    {
     "name": "stdout",
     "output_type": "stream",
     "text": [
      "['Return of the Jedi (1983)', 'Empire Strikes Back, The (1980)', 'Starship Troopers (1997)', 'African Queen, The (1951)', 'Stargate (1994)']\n"
     ]
    }
   ],
   "source": [
    "print(recommend_similar(\"Star Wars (1977)\", top_n=5))"
   ]
  },
  {
   "cell_type": "markdown",
   "id": "a2b8c518-7be1-4ee8-aaea-0afada94d4a0",
   "metadata": {},
   "source": [
    "## Étape 5 : Collaborative Filtering (User-User)"
   ]
  },
  {
   "cell_type": "code",
   "execution_count": 37,
   "id": "22891818-156c-42d2-bf04-1501808f6fb0",
   "metadata": {},
   "outputs": [],
   "source": [
    "# Moyenne des notes si doublons\n",
    "ratings_unique = data.groupby(['user_id', 'title'], as_index=False)['rating'].mean()\n",
    "user_movie_matrix = ratings_unique.pivot(index='user_id', columns='title', values='rating').fillna(0)\n"
   ]
  },
  {
   "cell_type": "code",
   "execution_count": 39,
   "id": "d1a2ee7b-b7b1-4ed7-a61b-0ead15ea252a",
   "metadata": {},
   "outputs": [],
   "source": [
    "from sklearn.metrics.pairwise import cosine_similarity\n",
    "\n",
    "# Similarité entre utilisateurs\n",
    "user_similarity = cosine_similarity(user_movie_matrix)\n",
    "user_similarity_df = pd.DataFrame(user_similarity, index=user_movie_matrix.index, columns=user_movie_matrix.index)\n",
    "\n",
    "# Fonction pour recommander des films à un utilisateur\n",
    "def recommend_for_user(user_id, top_n=5):\n",
    "    if user_id not in user_movie_matrix.index:\n",
    "        return \"Utilisateur non trouvé.\"\n",
    "\n",
    "    # Scores pondérés par similarité\n",
    "    sim_scores = user_similarity_df[user_id]\n",
    "    weighted_ratings = user_movie_matrix.T.dot(sim_scores) / sim_scores.sum()\n",
    "\n",
    "    # Supprimer les films déjà vus\n",
    "    watched = user_movie_matrix.loc[user_id]\n",
    "    recommendations = weighted_ratings[watched == 0]\n",
    "\n",
    "    # Top films recommandés\n",
    "    top_recs = recommendations.sort_values(ascending=False).head(top_n)\n",
    "    return top_recs.index.tolist()\n"
   ]
  },
  {
   "cell_type": "markdown",
   "id": "bd351576-d979-47cd-82b8-1fcb1daa3f86",
   "metadata": {},
   "source": [
    "#### Test rapide"
   ]
  },
  {
   "cell_type": "code",
   "execution_count": 42,
   "id": "acabe039-20e7-4bcf-89e7-c3e9088a2a65",
   "metadata": {},
   "outputs": [
    {
     "name": "stdout",
     "output_type": "stream",
     "text": [
      "[\"Schindler's List (1993)\", 'E.T. the Extra-Terrestrial (1982)', \"One Flew Over the Cuckoo's Nest (1975)\", 'English Patient, The (1996)', 'Scream (1996)']\n"
     ]
    }
   ],
   "source": [
    "print(recommend_for_user(1, top_n=5))\n"
   ]
  },
  {
   "cell_type": "code",
   "execution_count": 46,
   "id": "f00f4a3f-5da7-4a41-ae25-6e14c51b3da6",
   "metadata": {},
   "outputs": [
    {
     "name": "stderr",
     "output_type": "stream",
     "text": [
      "2025-09-10 21:38:21.843 \n",
      "  \u001b[33m\u001b[1mWarning:\u001b[0m to view this Streamlit app on a browser, run it with the following\n",
      "  command:\n",
      "\n",
      "    streamlit run C:\\Users\\khadi\\anaconda3\\Lib\\site-packages\\ipykernel_launcher.py [ARGUMENTS]\n",
      "2025-09-10 21:38:21.846 Session state does not function when running a script without `streamlit run`\n"
     ]
    }
   ],
   "source": [
    "import streamlit as st\n",
    "\n",
    "# Tout le code ML doit être dans le notebook (précédentes cellules)\n",
    "# Pas besoin d'importer recommender.py\n",
    "st.title(\"🎬 Mini Recommender System\")\n",
    "\n",
    "# Content-Based\n",
    "film = st.selectbox(\"Choisis un film :\", movies_clean['title'].tolist())\n",
    "if st.button(\"Recommander par film\"):\n",
    "    recs = recommend_similar(film)\n",
    "    for r in recs:\n",
    "        st.write(\"-\", r)\n",
    "\n",
    "# Collaborative Filtering\n",
    "user_id = st.number_input(\"Entrez l'ID utilisateur :\", min_value=1, max_value=943)\n",
    "if st.button(\"Recommander par utilisateur\"):\n",
    "    recs = recommend_for_user(user_id)\n",
    "    for r in recs:\n",
    "        st.write(\"-\", r)\n"
   ]
  },
  {
   "cell_type": "code",
   "execution_count": null,
   "id": "99b1e145-9571-4cf7-8605-9ccf0246cedb",
   "metadata": {},
   "outputs": [],
   "source": []
  }
 ],
 "metadata": {
  "kernelspec": {
   "display_name": "Python 3 (ipykernel)",
   "language": "python",
   "name": "python3"
  },
  "language_info": {
   "codemirror_mode": {
    "name": "ipython",
    "version": 3
   },
   "file_extension": ".py",
   "mimetype": "text/x-python",
   "name": "python",
   "nbconvert_exporter": "python",
   "pygments_lexer": "ipython3",
   "version": "3.12.7"
  }
 },
 "nbformat": 4,
 "nbformat_minor": 5
}
